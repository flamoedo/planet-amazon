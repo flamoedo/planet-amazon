{
 "cells": [
  {
   "cell_type": "markdown",
   "metadata": {},
   "source": [
    "# *Planet: Understanding the Amazon from Space* challenge\n",
    "\n",
    "This notebook will show you how to do some basic manipulation of the images and label files."
   ]
  },
  {
   "cell_type": "code",
   "execution_count": 1,
   "metadata": {
    "collapsed": true
   },
   "outputs": [],
   "source": [
    "import sys\n",
    "import os\n",
    "import subprocess\n",
    "\n",
    "from six import string_types\n",
    "\n",
    "# Make sure you have all of these packages installed, e.g. via pip\n",
    "import numpy as np\n",
    "import pandas as pd\n",
    "import seaborn as sns\n",
    "import matplotlib.pyplot as plt\n",
    "import matplotlib.image as mpimg\n",
    "from skimage import io\n",
    "from skimage.transform import rescale\n",
    "\n",
    "%matplotlib inline"
   ]
  },
  {
   "cell_type": "markdown",
   "metadata": {},
   "source": [
    "## Setup\n",
    "Set `PLANET_KAGGLE_ROOT` to the directory where you've downloaded the TIFF and JPEG zip files, and accompanying CSVs."
   ]
  },
  {
   "cell_type": "code",
   "execution_count": 25,
   "metadata": {
    "collapsed": true
   },
   "outputs": [],
   "source": [
    "PLANET_KAGGLE_ROOT = os.path.abspath('C:/Kaggle/planet-amazon-deforestation-master')\n",
    "PLANET_KAGGLE_JPEG_DIR = os.path.join(PLANET_KAGGLE_ROOT, 'train-tif-v2/')\n",
    "PLANET_KAGGLE_TEST_DIR = os.path.join(PLANET_KAGGLE_ROOT, 'test-tif-v2/')\n",
    "PLANET_KAGGLE_LABEL_CSV = os.path.join(PLANET_KAGGLE_ROOT, 'train_v2.csv')\n",
    "MODEL_SAVE_FILE_NAME = 'forest-vgg-keras.tflearn'\n",
    "\n",
    "assert os.path.exists(PLANET_KAGGLE_ROOT)\n",
    "assert os.path.exists(PLANET_KAGGLE_JPEG_DIR)\n",
    "assert os.path.exists(PLANET_KAGGLE_LABEL_CSV)"
   ]
  },
  {
   "cell_type": "code",
   "execution_count": 3,
   "metadata": {
    "collapsed": true
   },
   "outputs": [],
   "source": [
    "#print(PLANET_KAGGLE_JPEG_DIR)"
   ]
  },
  {
   "cell_type": "code",
   "execution_count": 4,
   "metadata": {
    "collapsed": true
   },
   "outputs": [],
   "source": [
    "land_labels = ['primary', 'agriculture', 'water', 'cultivation', 'habitation']\n",
    "rare_labels = ['slash_burn','conventional_mine','bare_ground','artisinal_mine','blooming','selective_logging','blow_down']\n",
    "weather_labels = ['clear', 'partly_cloudy', 'haze', 'cloudy']"
   ]
  },
  {
   "cell_type": "code",
   "execution_count": 5,
   "metadata": {
    "collapsed": true
   },
   "outputs": [],
   "source": [
    "def load_image(filename):\n",
    "    '''Look through the directory tree to find the image you specified\n",
    "    (e.g. train_10.tif vs. train_10.jpg)'''\n",
    "    for dirname in os.listdir(PLANET_KAGGLE_ROOT):\n",
    "        path = os.path.abspath(os.path.join(PLANET_KAGGLE_ROOT, dirname, filename))\n",
    "        if os.path.exists(path):\n",
    "            #print('Found image {}'.format(path))\n",
    "            return io.imread(path)\n",
    "    # if you reach this line, you didn't find the image you're looking for\n",
    "    print('Load failed: could not find image {}'.format(path))\n",
    "    \n",
    "def sample_to_fname(sample_df, row_idx, suffix='tif'):\n",
    "    '''Given a dataframe of sampled images, get the\n",
    "    corresponding filename.'''\n",
    "    fname = sample_df.get_value(sample_df.index[row_idx], 'image_name')\n",
    "    return '{}.{}'.format(fname, suffix)"
   ]
  },
  {
   "cell_type": "markdown",
   "metadata": {},
   "source": [
    " ### Add onehot features for every label"
   ]
  },
  {
   "cell_type": "code",
   "execution_count": 6,
   "metadata": {
    "collapsed": true
   },
   "outputs": [],
   "source": [
    "def load_labels(labels_dir):\n",
    "\n",
    "    labels_df = pd.read_csv(labels_dir)\n",
    "    \n",
    "    from collections import Counter\n",
    "    total_counts = Counter()\n",
    "    for labels in labels_df['tags']:\n",
    "        total_counts.update(labels.split())\n",
    "    \n",
    "    vocab = sorted(total_counts, key=total_counts.get, reverse=True)\n",
    "    \n",
    "    # Add onehot features for every label\n",
    "    for label in vocab:\n",
    "        labels_df[label] = labels_df['tags'].apply(lambda x: 1 if label in x.split(' ') else 0)\n",
    "        \n",
    "    return labels_df"
   ]
  },
  {
   "cell_type": "code",
   "execution_count": 7,
   "metadata": {
    "collapsed": true
   },
   "outputs": [],
   "source": [
    "def subsample(df, n_sample):\n",
    "    df_sample = pd.DataFrame()\n",
    "    columns = list(df)\n",
    "\n",
    "    i=0\n",
    "    df_factor  = df.groupby(['tags'])['tags'].sum().sort_values().keys()\n",
    "    for tags in df_factor:\n",
    "            \n",
    "            if tags == 'cloudy':\n",
    "                sample = n_sample * 50\n",
    "            else:\n",
    "                sample = n_sample\n",
    "                            \n",
    "            \n",
    "            df_s = df[df['tags'] == tags].sample(sample, replace=True)\n",
    "            df_sample = df_sample.append(df_s)\n",
    "            \n",
    "    return df_sample[columns]\n",
    "    "
   ]
  },
  {
   "cell_type": "markdown",
   "metadata": {},
   "source": [
    "### loading multiple JPEG files, normalize and categorize labels"
   ]
  },
  {
   "cell_type": "code",
   "execution_count": 8,
   "metadata": {
    "collapsed": true
   },
   "outputs": [],
   "source": [
    "def load_images(img_dir,label_dir, img_fim=100, img_type='jpg', img_ini=0, img_rescale=1.0, sample=0):\n",
    "    \n",
    "    X = []\n",
    "    y = []\n",
    "    \n",
    "\n",
    "    i = img_ini\n",
    "    \n",
    "    labels_df = load_labels(label_dir)\n",
    "    columns = list(labels_df)\n",
    "\n",
    "    if sample != 0:\n",
    "        labels_df = subsample(labels_df, sample)[columns]\n",
    "        img_ini = 0\n",
    "        img_fim = len(labels_df) - 1\n",
    "    \n",
    "    labels_res = pd.DataFrame()\n",
    "    \n",
    "    print('Processando imagens '+ str(img_ini), str(img_fim) )\n",
    "    \n",
    "    for i in range(img_ini, img_fim):                        \n",
    "                    \n",
    "        try: \n",
    "            img_x = load_image(img_dir + labels_df.iloc[i].values[0] + '.' + img_type)\n",
    "            \n",
    "            if img_rescale != 1.0:    \n",
    "                img_x = rescale(img_x, img_rescale, mode='reflect')\n",
    "                \n",
    "            y.append(labels_df.iloc[i].values[2:])    \n",
    "            X.append(img_x/255)\n",
    "            \n",
    "            labels_res = labels_res.append(labels_df.iloc[i])\n",
    "                \n",
    "        except:\n",
    "            if debug: print('ERRO LEITURA IMAGEM:',img_dir + labels_df.iloc[i].values[0] + '.' + img_type)\n",
    "            pass\n",
    "        \n",
    "        \n",
    "                \n",
    "        if i >= len(labels_df) - 1:\n",
    "            break\n",
    "        \n",
    "        \n",
    "    X = np.array(X, dtype='float32')    \n",
    "    \n",
    "    one_hot_encode = np.array(y, dtype='float32')\n",
    "        \n",
    "    return X, one_hot_encode\n"
   ]
  },
  {
   "cell_type": "code",
   "execution_count": 9,
   "metadata": {
    "collapsed": true
   },
   "outputs": [],
   "source": [
    "#norm, one_hot, labels_df = load_images(PLANET_KAGGLE_JPEG_DIR, PLANET_KAGGLE_LABEL_CSV,\n",
    "#                            img_ini=4848, \n",
    "#                            img_fim=4900, img_type='tif',                             \n",
    "#                            sample=3)"
   ]
  },
  {
   "cell_type": "code",
   "execution_count": 10,
   "metadata": {
    "collapsed": true
   },
   "outputs": [],
   "source": [
    "#labels_dx = load_labels(PLANET_KAGGLE_LABEL_CSV)\n",
    "#labels = subsample(labels_dx, 15)\n"
   ]
  },
  {
   "cell_type": "code",
   "execution_count": 11,
   "metadata": {
    "collapsed": true
   },
   "outputs": [],
   "source": [
    "#labels_df.iloc[1450]"
   ]
  },
  {
   "cell_type": "code",
   "execution_count": 12,
   "metadata": {
    "collapsed": true
   },
   "outputs": [],
   "source": [
    "#one_hot[1450]"
   ]
  },
  {
   "cell_type": "code",
   "execution_count": 13,
   "metadata": {
    "collapsed": true
   },
   "outputs": [],
   "source": [
    "#plt.imshow(norm[1450][:,:,3])"
   ]
  },
  {
   "cell_type": "code",
   "execution_count": 14,
   "metadata": {
    "collapsed": true
   },
   "outputs": [],
   "source": [
    "#img_x = load_image(PLANET_KAGGLE_JPEG_DIR + 'train_15960.tif')\n",
    "#plt.imshow(img_x[:,:,3])"
   ]
  },
  {
   "cell_type": "code",
   "execution_count": 15,
   "metadata": {
    "collapsed": true
   },
   "outputs": [],
   "source": [
    "#labels_dx[labels_dx['image_name']=='train_15960']"
   ]
  },
  {
   "cell_type": "code",
   "execution_count": 16,
   "metadata": {
    "collapsed": true
   },
   "outputs": [],
   "source": [
    "def get_img_shape(rescale_img = 0.0):\n",
    "    norm, one_hot = load_images(PLANET_KAGGLE_JPEG_DIR, PLANET_KAGGLE_LABEL_CSV,\n",
    "                                img_ini=10, img_fim=11, \n",
    "                                img_type='tif', debug=True,\n",
    "                                img_rescale=rescale_img)\n",
    "    \n",
    "    return [None, norm[0][:,:,:].shape[0], norm[0][:,:,:].shape[1], norm[0][:,:,:].shape[2]]\n",
    "    "
   ]
  },
  {
   "cell_type": "code",
   "execution_count": 17,
   "metadata": {
    "collapsed": true
   },
   "outputs": [],
   "source": [
    "def load_data(img_dir,label_dir, img_ini=0, img_type='tif', batch_size=0, res_img=1.0, sample=0):\n",
    "    labels_df = load_labels(label_dir)\n",
    "    \n",
    "    #Separar 10% do batch para teste\n",
    "                \n",
    "    img_fim = img_ini + batch_size - 1\n",
    "    \n",
    "    print(img_ini, img_fim)\n",
    "        \n",
    "    X_features, Y_features = load_images(img_dir,label_dir, img_fim, img_type, img_ini, img_rescale = res_img, sample=sample)\n",
    "    \n",
    "    if batch_size == 0:\n",
    "        train_size = len(Y_features)\n",
    "    else:\n",
    "        train_size = int(0.9 * batch_size)\n",
    "    \n",
    "    \n",
    "    return (X_features[:train_size], Y_features[:train_size]), (X_features[:-train_size], Y_features[:-train_size])\n",
    "        \n",
    "        "
   ]
  },
  {
   "cell_type": "markdown",
   "metadata": {},
   "source": [
    "### Modelo Keras"
   ]
  },
  {
   "cell_type": "code",
   "execution_count": 18,
   "metadata": {},
   "outputs": [
    {
     "name": "stderr",
     "output_type": "stream",
     "text": [
      "Using TensorFlow backend.\n"
     ]
    }
   ],
   "source": [
    "import keras\n",
    "from keras.preprocessing.image import ImageDataGenerator\n",
    "from keras.models import Sequential\n",
    "from keras.layers import Dense, Dropout, Activation, Flatten\n",
    "from keras.layers import Conv2D, MaxPooling2D\n",
    "from keras.optimizers import SGD\n",
    "\n",
    "\n",
    "batch_size = 32\n",
    "num_classes = 10\n",
    "epochs = 200\n",
    "data_augmentation = True\n",
    "\n",
    "from tensorflow import reset_default_graph\n"
   ]
  },
  {
   "cell_type": "code",
   "execution_count": 80,
   "metadata": {
    "collapsed": true
   },
   "outputs": [],
   "source": [
    "model = Sequential()\n",
    "\n",
    "model.add(Conv2D(96, 11, padding='same', strides=4,\n",
    "                 input_shape=(256,256,4),activation='relu', name='conv1_in'))\n",
    "model.add(MaxPooling2D(pool_size=3, strides=2, name='pool1'))\n",
    "\n",
    "model.add(Conv2D(256, 5, activation='relu', name='conv2'))\n",
    "model.add(MaxPooling2D(pool_size=3, strides=2, name='pool2'))\n",
    "\n",
    "model.add(Conv2D(384, 3, activation='relu', name='conv3'))\n",
    "model.add(Conv2D(384, 3, activation='relu', name='conv4'))\n",
    "model.add(Conv2D(256, 3, activation='relu',name='conv5'))\n",
    "model.add(MaxPooling2D(pool_size=3, strides=2, name='pool3'))\n",
    "\n",
    "model.add(Flatten())\n",
    "\n",
    "model.add(Dense(4096, activation='relu', name='fc1'))\n",
    "model.add(Dropout(0.5))\n",
    "\n",
    "model.add(Dense(4096, activation='relu', name='fc2'))\n",
    "model.add(Dropout(0.5))\n",
    "\n",
    "model.add(Dense(17, activation='sigmoid', name='fc3_out'))\n",
    "\n",
    "# Let's train the model using RMSprop\n",
    "model.compile(loss='binary_crossentropy', optimizer='adam', metrics=['accuracy'])\n",
    "\n"
   ]
  },
  {
   "cell_type": "markdown",
   "metadata": {},
   "source": [
    "### Treinando em batches"
   ]
  },
  {
   "cell_type": "code",
   "execution_count": 81,
   "metadata": {
    "collapsed": true,
    "scrolled": true
   },
   "outputs": [],
   "source": [
    "#batch=5000\n",
    "#\n",
    "#i=20000\n",
    "#while i <= 25000:\n",
    "#\n",
    "#    (X, Y), (X_test, Y_test) = load_data(PLANET_KAGGLE_JPEG_DIR,PLANET_KAGGLE_LABEL_CSV, \n",
    "#                                         img_ini=i, batch_size = batch,\n",
    "#                                         res_img = set_rescale_img, sample=10)\n",
    "#    \n",
    "#    history = model.fit(X, Y,\n",
    "#                        epochs=50,\n",
    "#                        batch_size=128, \n",
    "#                        validation_data=(X_test, Y_test),)\n",
    "#    \n",
    "#    \n",
    "#    i+= batch\n",
    "#      \n",
    "#    model.save(MODEL_SAVE_FILE_NAME)"
   ]
  },
  {
   "cell_type": "markdown",
   "metadata": {},
   "source": [
    "### Treinando com as classes balanceadas"
   ]
  },
  {
   "cell_type": "code",
   "execution_count": 82,
   "metadata": {},
   "outputs": [
    {
     "name": "stdout",
     "output_type": "stream",
     "text": [
      "0 -1\n",
      "Processando imagens 0 4979\n"
     ]
    },
    {
     "ename": "UnboundLocalError",
     "evalue": "local variable 'train_size' referenced before assignment",
     "output_type": "error",
     "traceback": [
      "\u001b[1;31m---------------------------------------------------------------------------\u001b[0m",
      "\u001b[1;31mUnboundLocalError\u001b[0m                         Traceback (most recent call last)",
      "\u001b[1;32m<ipython-input-82-c9da57186f11>\u001b[0m in \u001b[0;36m<module>\u001b[1;34m()\u001b[0m\n\u001b[0;32m      1\u001b[0m (X, Y), (X_test, Y_test) = load_data(PLANET_KAGGLE_JPEG_DIR,PLANET_KAGGLE_LABEL_CSV, \n\u001b[1;32m----> 2\u001b[1;33m                                      sample=10)\n\u001b[0m\u001b[0;32m      3\u001b[0m \u001b[1;33m\u001b[0m\u001b[0m\n\u001b[0;32m      4\u001b[0m history = model.fit(X, Y,\n\u001b[0;32m      5\u001b[0m                     \u001b[0mepochs\u001b[0m\u001b[1;33m=\u001b[0m\u001b[1;36m50\u001b[0m\u001b[1;33m,\u001b[0m\u001b[1;33m\u001b[0m\u001b[0m\n",
      "\u001b[1;32m<ipython-input-78-3ecf46ac2235>\u001b[0m in \u001b[0;36mload_data\u001b[1;34m(img_dir, label_dir, img_ini, img_type, batch_size, res_img, sample)\u001b[0m\n\u001b[0;32m     11\u001b[0m \u001b[1;33m\u001b[0m\u001b[0m\n\u001b[0;32m     12\u001b[0m     \u001b[1;32mif\u001b[0m \u001b[0mbatch_size\u001b[0m \u001b[1;33m==\u001b[0m \u001b[1;36m0\u001b[0m\u001b[1;33m:\u001b[0m\u001b[1;33m\u001b[0m\u001b[0m\n\u001b[1;32m---> 13\u001b[1;33m         \u001b[0mtrain_size\u001b[0m \u001b[1;33m==\u001b[0m \u001b[0mlen\u001b[0m\u001b[1;33m(\u001b[0m\u001b[0mY_features\u001b[0m\u001b[1;33m)\u001b[0m\u001b[1;33m\u001b[0m\u001b[0m\n\u001b[0m\u001b[0;32m     14\u001b[0m     \u001b[1;32melse\u001b[0m\u001b[1;33m:\u001b[0m\u001b[1;33m\u001b[0m\u001b[0m\n\u001b[0;32m     15\u001b[0m         \u001b[0mtrain_size\u001b[0m \u001b[1;33m=\u001b[0m \u001b[0mint\u001b[0m\u001b[1;33m(\u001b[0m\u001b[1;36m0.9\u001b[0m \u001b[1;33m*\u001b[0m \u001b[0mbatch_size\u001b[0m\u001b[1;33m)\u001b[0m\u001b[1;33m\u001b[0m\u001b[0m\n",
      "\u001b[1;31mUnboundLocalError\u001b[0m: local variable 'train_size' referenced before assignment"
     ]
    }
   ],
   "source": [
    "(X, Y), (X_test, Y_test) = load_data(PLANET_KAGGLE_JPEG_DIR,PLANET_KAGGLE_LABEL_CSV, \n",
    "                                     sample=10)\n",
    "\n",
    "history = model.fit(X, Y,\n",
    "                    epochs=50,\n",
    "                    batch_size=128, \n",
    "                    validation_data=(X_test, Y_test), shuffle=True)\n",
    "  \n",
    "model.save(MODEL_SAVE_FILE_NAME)"
   ]
  },
  {
   "cell_type": "code",
   "execution_count": null,
   "metadata": {
    "collapsed": true
   },
   "outputs": [],
   "source": [
    "#model.save(MODEL_SAVE_FILE_NAME)"
   ]
  },
  {
   "cell_type": "code",
   "execution_count": 21,
   "metadata": {
    "collapsed": true
   },
   "outputs": [],
   "source": [
    "model = keras.models.load_model('continue_2_forest-vgg.keras')"
   ]
  },
  {
   "cell_type": "code",
   "execution_count": 114,
   "metadata": {
    "collapsed": true
   },
   "outputs": [],
   "source": [
    "weight = classes.mean(0)"
   ]
  },
  {
   "cell_type": "code",
   "execution_count": 116,
   "metadata": {
    "collapsed": true
   },
   "outputs": [],
   "source": [
    "weight={0: 0.9267274389189456,\n",
    " 1: 0.70236418883865703,\n",
    " 2: 0.30423182390869341,\n",
    " 3: 0.19938733664369179,\n",
    " 4: 0.18308258603226366,\n",
    " 5: 0.17937696089330271,\n",
    " 6: 0.11060055831418761,\n",
    " 7: 0.090417253390647004,\n",
    " 8: 0.066627139998517756,\n",
    " 9: 0.051607006101929392,\n",
    " 10: 0.021294992465228885,\n",
    " 11: 0.0083994169816448035,\n",
    " 12: 0.00837471281405173,\n",
    " 13: 0.0082017836409002207,\n",
    " 14: 0.0051631710269522471,\n",
    " 15: 0.0024210084241211493,\n",
    " 16: 0.002470416759307295}"
   ]
  },
  {
   "cell_type": "code",
   "execution_count": 112,
   "metadata": {},
   "outputs": [
    {
     "ename": "IndexError",
     "evalue": "index 1 is out of bounds for axis 0 with size 1",
     "output_type": "error",
     "traceback": [
      "\u001b[1;31m---------------------------------------------------------------------------\u001b[0m",
      "\u001b[1;31mIndexError\u001b[0m                                Traceback (most recent call last)",
      "\u001b[1;32m<ipython-input-112-d70b3151f132>\u001b[0m in \u001b[0;36m<module>\u001b[1;34m()\u001b[0m\n\u001b[1;32m----> 1\u001b[1;33m \u001b[0mweight\u001b[0m\u001b[1;33m[\u001b[0m\u001b[1;36m1\u001b[0m\u001b[1;33m]\u001b[0m \u001b[1;33m=\u001b[0m \u001b[0mweight\u001b[0m\u001b[1;33m[\u001b[0m\u001b[1;36m0\u001b[0m\u001b[1;33m]\u001b[0m\u001b[1;33m\u001b[0m\u001b[0m\n\u001b[0m",
      "\u001b[1;31mIndexError\u001b[0m: index 1 is out of bounds for axis 0 with size 1"
     ]
    }
   ],
   "source": [
    "weight[1] = weight[0]"
   ]
  },
  {
   "cell_type": "code",
   "execution_count": null,
   "metadata": {
    "collapsed": true
   },
   "outputs": [],
   "source": [
    "#labels_df = load_labels(PLANET_KAGGLE_LABEL_CSV)"
   ]
  },
  {
   "cell_type": "code",
   "execution_count": 37,
   "metadata": {},
   "outputs": [
    {
     "name": "stdout",
     "output_type": "stream",
     "text": [
      "40000 40009\n",
      "Processando imagens 40000 40009\n"
     ]
    }
   ],
   "source": [
    "(X, Y), (X_test, Y_test) = load_data(PLANET_KAGGLE_JPEG_DIR,PLANET_KAGGLE_LABEL_CSV, 40000, batch_size = 10)\n",
    "\n"
   ]
  },
  {
   "cell_type": "code",
   "execution_count": 22,
   "metadata": {},
   "outputs": [
    {
     "name": "stdout",
     "output_type": "stream",
     "text": [
      "9/9 [==============================] - 3s\n"
     ]
    },
    {
     "data": {
      "text/plain": [
       "[0.48211684823036194, 0.92810463905334473]"
      ]
     },
     "execution_count": 22,
     "metadata": {},
     "output_type": "execute_result"
    }
   ],
   "source": [
    "#model.evaluate(X_test, y_tr, batch_size=128)\n",
    "\n",
    "model.evaluate(X, Y, batch_size=128)"
   ]
  },
  {
   "cell_type": "code",
   "execution_count": 38,
   "metadata": {
    "collapsed": true
   },
   "outputs": [],
   "source": [
    "classes = model.predict(X, batch_size=128)"
   ]
  },
  {
   "cell_type": "code",
   "execution_count": 26,
   "metadata": {},
   "outputs": [
    {
     "data": {
      "text/plain": [
       "array([  8.25952888e-01,   1.53789530e-02,   2.96323324e-05,\n",
       "         1.83053874e-06,   1.81610358e-05,   2.32526122e-06,\n",
       "         2.89289120e-10,   1.06402875e-09,   3.83834839e-02,\n",
       "         1.77535981e-01,   1.17580178e-07,   1.04927498e-15,\n",
       "         1.55368268e-15,   1.37890484e-14,   7.74605278e-16,\n",
       "         3.20170958e-15,   1.63325267e-12], dtype=float32)"
      ]
     },
     "execution_count": 26,
     "metadata": {},
     "output_type": "execute_result"
    }
   ],
   "source": [
    "classes[0]"
   ]
  },
  {
   "cell_type": "code",
   "execution_count": 27,
   "metadata": {},
   "outputs": [
    {
     "data": {
      "text/plain": [
       "<matplotlib.image.AxesImage at 0xce008743c8>"
      ]
     },
     "execution_count": 27,
     "metadata": {},
     "output_type": "execute_result"
    },
    {
     "data": {
      "image/png": "[encoded data removed]",
      "text/plain": [
       "<matplotlib.figure.Figure at 0xce00897ba8>"
      ]
     },
     "metadata": {},
     "output_type": "display_data"
    }
   ],
   "source": [
    "plt.imshow(X[0][:,:,3])"
   ]
  },
  {
   "cell_type": "code",
   "execution_count": 34,
   "metadata": {
    "collapsed": true
   },
   "outputs": [],
   "source": [
    "labels_dx = load_labels(PLANET_KAGGLE_LABEL_CSV)"
   ]
  },
  {
   "cell_type": "code",
   "execution_count": 35,
   "metadata": {
    "collapsed": true
   },
   "outputs": [],
   "source": [
    "list_labels = labels_dx.columns[2:]"
   ]
  },
  {
   "cell_type": "code",
   "execution_count": 55,
   "metadata": {},
   "outputs": [
    {
     "data": {
      "text/plain": [
       "['primary', 'clear', 'agriculture']"
      ]
     },
     "execution_count": 55,
     "metadata": {},
     "output_type": "execute_result"
    }
   ],
   "source": [
    "thresholds = []\n",
    "predictions_labels = []\n",
    "for prediction in classes:\n",
    "    labels = [list_labels[i] for i, value in enumerate(prediction) if value > 0.5]\n",
    "    predictions_labels.append(labels)\n",
    "    \n",
    "predictions_labels[110]"
   ]
  },
  {
   "cell_type": "code",
   "execution_count": 56,
   "metadata": {},
   "outputs": [
    {
     "data": {
      "text/plain": [
       "['primary', 'agriculture', 'road', 'partly_cloudy']"
      ]
     },
     "execution_count": 56,
     "metadata": {},
     "output_type": "execute_result"
    }
   ],
   "source": [
    "thresholds = []\n",
    "predictions_labelsY = []\n",
    "for prediction in Y:\n",
    "    labels = [list_labels[i] for i, value in enumerate(prediction) if value > 0.5]\n",
    "    predictions_labelsY.append(labels)\n",
    "    \n",
    "predictions_labelsY[110]"
   ]
  },
  {
   "cell_type": "code",
   "execution_count": 87,
   "metadata": {},
   "outputs": [
    {
     "data": {
      "text/plain": [
       "array([  9.36532855e-01,   7.23094285e-01,   3.09244752e-01,\n",
       "         1.50620297e-01,   1.21768683e-01,   1.59920111e-01,\n",
       "         1.21176414e-01,   4.65232991e-02,   7.14944601e-02,\n",
       "         4.45699841e-02,   2.78036986e-02,   7.88705703e-03,\n",
       "         2.57723336e-03,   1.33771934e-02,   2.96922517e-04,\n",
       "         1.33737485e-04,   1.33798085e-05], dtype=float32)"
      ]
     },
     "execution_count": 87,
     "metadata": {},
     "output_type": "execute_result"
    }
   ],
   "source": [
    "classes.mean(0)"
   ]
  },
  {
   "cell_type": "code",
   "execution_count": 54,
   "metadata": {},
   "outputs": [
    {
     "data": {
      "text/plain": [
       "Index(['primary', 'clear', 'agriculture', 'road', 'water', 'partly_cloudy',\n",
       "       'cultivation', 'habitation', 'haze', 'cloudy', 'bare_ground',\n",
       "       'selective_logging', 'artisinal_mine', 'blooming', 'slash_burn',\n",
       "       'blow_down', 'conventional_mine'],\n",
       "      dtype='object')"
      ]
     },
     "execution_count": 54,
     "metadata": {},
     "output_type": "execute_result"
    }
   ],
   "source": [
    "list_labels"
   ]
  },
  {
   "cell_type": "code",
   "execution_count": 58,
   "metadata": {},
   "outputs": [
    {
     "data": {
      "text/plain": [
       "0"
      ]
     },
     "execution_count": 58,
     "metadata": {},
     "output_type": "execute_result"
    }
   ],
   "source": [
    "word2idx['primary']"
   ]
  },
  {
   "cell_type": "code",
   "execution_count": 71,
   "metadata": {},
   "outputs": [
    {
     "data": {
      "text/plain": [
       "array([ True,  True,  True,  True, False, False, False,  True,  True,\n",
       "       False, False, False, False, False, False, False, False], dtype=bool)"
      ]
     },
     "execution_count": 71,
     "metadata": {},
     "output_type": "execute_result"
    }
   ],
   "source": [
    "classes[0] > 0.5"
   ]
  },
  {
   "cell_type": "code",
   "execution_count": 88,
   "metadata": {
    "collapsed": true
   },
   "outputs": [],
   "source": [
    "thresholds = []\n",
    "predictions_labels = []\n",
    "for prediction in classes:\n",
    "    labels = [list_labels[i] for i, value in enumerate(prediction) if value > classes.mean(0)[i]]\n",
    "    predictions_labels.append(labels)"
   ]
  },
  {
   "cell_type": "code",
   "execution_count": 89,
   "metadata": {},
   "outputs": [
    {
     "data": {
      "text/plain": [
       "[['primary', 'clear', 'agriculture', 'road', 'habitation', 'haze'],\n",
       " ['haze', 'cloudy'],\n",
       " ['primary', 'clear', 'blooming', 'slash_burn', 'blow_down'],\n",
       " ['primary', 'clear', 'water'],\n",
       " ['primary', 'clear', 'road'],\n",
       " ['primary', 'clear', 'blooming'],\n",
       " ['primary', 'clear', 'agriculture', 'road'],\n",
       " ['primary', 'agriculture'],\n",
       " ['primary',\n",
       "  'clear',\n",
       "  'haze',\n",
       "  'bare_ground',\n",
       "  'selective_logging',\n",
       "  'artisinal_mine',\n",
       "  'blooming',\n",
       "  'slash_burn',\n",
       "  'blow_down',\n",
       "  'conventional_mine'],\n",
       " ['primary', 'clear', 'blooming'],\n",
       " ['primary', 'clear', 'agriculture', 'road', 'cultivation'],\n",
       " ['primary',\n",
       "  'clear',\n",
       "  'cultivation',\n",
       "  'selective_logging',\n",
       "  'blooming',\n",
       "  'slash_burn'],\n",
       " ['primary', 'partly_cloudy', 'cloudy'],\n",
       " ['primary', 'clear'],\n",
       " ['primary', 'clear', 'blooming'],\n",
       " ['haze', 'cloudy'],\n",
       " ['primary', 'clear', 'agriculture', 'cultivation'],\n",
       " ['primary', 'clear', 'blooming'],\n",
       " ['primary', 'agriculture', 'road', 'water', 'partly_cloudy'],\n",
       " ['primary', 'clear', 'blooming'],\n",
       " ['primary', 'clear', 'agriculture', 'road', 'water'],\n",
       " ['primary', 'cultivation'],\n",
       " ['primary', 'partly_cloudy'],\n",
       " ['primary', 'clear', 'agriculture', 'road'],\n",
       " ['clear', 'water'],\n",
       " ['primary', 'clear', 'blooming'],\n",
       " ['primary', 'clear', 'blooming'],\n",
       " ['primary', 'clear', 'road', 'cultivation'],\n",
       " ['primary', 'agriculture', 'partly_cloudy', 'slash_burn'],\n",
       " ['primary', 'clear', 'agriculture', 'road', 'habitation'],\n",
       " ['primary', 'agriculture', 'road', 'water', 'partly_cloudy'],\n",
       " ['primary', 'clear', 'agriculture', 'cultivation'],\n",
       " ['primary', 'clear', 'blooming', 'blow_down'],\n",
       " ['partly_cloudy', 'cloudy'],\n",
       " ['primary', 'clear', 'blooming', 'slash_burn', 'blow_down'],\n",
       " ['primary',\n",
       "  'clear',\n",
       "  'selective_logging',\n",
       "  'blooming',\n",
       "  'slash_burn',\n",
       "  'blow_down',\n",
       "  'conventional_mine'],\n",
       " ['primary', 'clear', 'blooming'],\n",
       " ['primary', 'water', 'cultivation'],\n",
       " ['cloudy'],\n",
       " ['primary',\n",
       "  'partly_cloudy',\n",
       "  'haze',\n",
       "  'selective_logging',\n",
       "  'blooming',\n",
       "  'slash_burn',\n",
       "  'blow_down',\n",
       "  'conventional_mine'],\n",
       " ['primary', 'clear', 'blooming'],\n",
       " ['primary', 'clear', 'agriculture', 'road', 'cultivation', 'habitation'],\n",
       " ['primary', 'clear'],\n",
       " ['primary', 'clear', 'selective_logging'],\n",
       " ['primary', 'clear'],\n",
       " ['primary', 'clear', 'blooming'],\n",
       " ['primary', 'agriculture', 'partly_cloudy', 'cultivation', 'haze'],\n",
       " ['primary', 'partly_cloudy'],\n",
       " ['water', 'partly_cloudy'],\n",
       " ['primary', 'clear', 'blooming', 'blow_down'],\n",
       " ['primary', 'partly_cloudy'],\n",
       " ['primary', 'haze'],\n",
       " ['agriculture', 'haze', 'cloudy'],\n",
       " ['primary',\n",
       "  'clear',\n",
       "  'selective_logging',\n",
       "  'blooming',\n",
       "  'slash_burn',\n",
       "  'blow_down',\n",
       "  'conventional_mine'],\n",
       " ['primary', 'clear'],\n",
       " ['primary', 'clear', 'agriculture', 'road', 'cultivation'],\n",
       " ['primary', 'agriculture', 'road', 'habitation', 'haze'],\n",
       " ['primary', 'clear', 'agriculture', 'cultivation', 'blooming', 'slash_burn'],\n",
       " ['primary',\n",
       "  'clear',\n",
       "  'haze',\n",
       "  'selective_logging',\n",
       "  'blooming',\n",
       "  'slash_burn',\n",
       "  'blow_down',\n",
       "  'conventional_mine'],\n",
       " ['primary', 'clear', 'blooming'],\n",
       " ['haze', 'cloudy', 'conventional_mine'],\n",
       " ['primary', 'clear'],\n",
       " ['primary', 'clear', 'agriculture', 'cultivation'],\n",
       " ['primary', 'clear', 'agriculture'],\n",
       " ['primary', 'partly_cloudy'],\n",
       " ['haze', 'cloudy'],\n",
       " ['primary', 'clear', 'agriculture', 'bare_ground'],\n",
       " ['primary', 'clear', 'agriculture', 'road', 'habitation'],\n",
       " ['primary', 'clear', 'blooming'],\n",
       " ['primary', 'clear', 'blooming', 'slash_burn', 'blow_down'],\n",
       " ['primary', 'clear', 'blooming'],\n",
       " ['primary', 'clear', 'blooming'],\n",
       " ['primary', 'water', 'partly_cloudy', 'haze', 'slash_burn'],\n",
       " ['primary', 'clear'],\n",
       " ['primary', 'clear', 'agriculture', 'cultivation', 'bare_ground'],\n",
       " ['primary', 'clear', 'blooming', 'slash_burn', 'blow_down'],\n",
       " ['primary',\n",
       "  'clear',\n",
       "  'agriculture',\n",
       "  'road',\n",
       "  'water',\n",
       "  'cultivation',\n",
       "  'habitation'],\n",
       " ['primary', 'clear', 'blooming', 'blow_down'],\n",
       " ['primary', 'clear', 'agriculture', 'road'],\n",
       " ['primary', 'clear'],\n",
       " ['primary',\n",
       "  'clear',\n",
       "  'agriculture',\n",
       "  'road',\n",
       "  'cultivation',\n",
       "  'habitation',\n",
       "  'bare_ground'],\n",
       " ['primary', 'clear', 'blooming'],\n",
       " ['primary', 'clear', 'agriculture', 'road'],\n",
       " ['agriculture', 'partly_cloudy', 'habitation', 'cloudy'],\n",
       " ['primary', 'clear', 'agriculture', 'cultivation'],\n",
       " ['primary', 'clear', 'agriculture', 'partly_cloudy'],\n",
       " ['primary', 'agriculture', 'partly_cloudy'],\n",
       " ['primary', 'clear', 'agriculture'],\n",
       " ['primary', 'clear', 'blooming'],\n",
       " ['primary', 'clear', 'agriculture', 'water', 'blooming'],\n",
       " ['primary', 'clear', 'water'],\n",
       " ['primary', 'clear', 'blooming'],\n",
       " ['primary', 'partly_cloudy'],\n",
       " ['primary', 'clear', 'bare_ground'],\n",
       " ['primary', 'clear', 'bare_ground'],\n",
       " ['primary', 'clear', 'water', 'artisinal_mine'],\n",
       " ['primary', 'clear', 'agriculture'],\n",
       " ['primary', 'clear', 'cultivation', 'bare_ground', 'slash_burn'],\n",
       " ['primary', 'clear', 'blooming'],\n",
       " ['haze', 'cloudy', 'conventional_mine'],\n",
       " ['primary', 'water', 'partly_cloudy'],\n",
       " ['primary', 'clear', 'agriculture', 'road', 'cultivation'],\n",
       " ['primary', 'clear', 'blooming'],\n",
       " ['primary', 'partly_cloudy'],\n",
       " ['primary'],\n",
       " ['primary', 'clear', 'cultivation', 'blooming', 'slash_burn', 'blow_down'],\n",
       " ['primary',\n",
       "  'clear',\n",
       "  'water',\n",
       "  'haze',\n",
       "  'selective_logging',\n",
       "  'artisinal_mine',\n",
       "  'blooming',\n",
       "  'slash_burn',\n",
       "  'blow_down',\n",
       "  'conventional_mine'],\n",
       " ['primary', 'clear', 'agriculture'],\n",
       " ['primary', 'partly_cloudy', 'cultivation'],\n",
       " ['primary', 'clear', 'blooming', 'blow_down'],\n",
       " ['primary', 'clear', 'road', 'habitation', 'selective_logging'],\n",
       " ['primary', 'clear', 'cultivation'],\n",
       " ['primary', 'clear', 'water', 'habitation', 'artisinal_mine'],\n",
       " ['primary', 'clear'],\n",
       " ['primary', 'clear', 'agriculture', 'cultivation'],\n",
       " ['primary', 'clear', 'cultivation', 'bare_ground', 'blooming'],\n",
       " ['primary', 'clear', 'blooming'],\n",
       " ['primary', 'clear', 'blooming', 'blow_down'],\n",
       " ['primary', 'clear', 'blooming'],\n",
       " ['primary', 'clear'],\n",
       " ['primary', 'agriculture', 'haze'],\n",
       " ['primary', 'partly_cloudy', 'selective_logging'],\n",
       " ['primary', 'partly_cloudy', 'cultivation', 'haze', 'selective_logging'],\n",
       " ['primary', 'clear', 'blooming'],\n",
       " ['primary', 'agriculture', 'partly_cloudy'],\n",
       " ['primary',\n",
       "  'agriculture',\n",
       "  'water',\n",
       "  'partly_cloudy',\n",
       "  'habitation',\n",
       "  'haze',\n",
       "  'artisinal_mine',\n",
       "  'slash_burn',\n",
       "  'blow_down',\n",
       "  'conventional_mine'],\n",
       " ['primary', 'clear'],\n",
       " ['primary', 'clear', 'agriculture', 'road'],\n",
       " ['primary', 'clear', 'agriculture', 'road', 'cultivation', 'bare_ground'],\n",
       " ['primary', 'clear', 'agriculture', 'cultivation'],\n",
       " ['primary', 'agriculture', 'water', 'partly_cloudy', 'haze'],\n",
       " ['primary', 'clear', 'blooming', 'slash_burn', 'blow_down'],\n",
       " ['primary', 'clear', 'blooming'],\n",
       " ['primary', 'clear', 'agriculture', 'water'],\n",
       " ['primary', 'clear', 'blooming'],\n",
       " ['haze', 'cloudy'],\n",
       " ['primary', 'clear', 'agriculture', 'cultivation'],\n",
       " ['primary',\n",
       "  'clear',\n",
       "  'haze',\n",
       "  'selective_logging',\n",
       "  'blooming',\n",
       "  'slash_burn',\n",
       "  'blow_down',\n",
       "  'conventional_mine'],\n",
       " ['primary',\n",
       "  'clear',\n",
       "  'selective_logging',\n",
       "  'blooming',\n",
       "  'slash_burn',\n",
       "  'blow_down',\n",
       "  'conventional_mine'],\n",
       " ['primary', 'clear', 'agriculture', 'road', 'partly_cloudy'],\n",
       " ['primary', 'clear', 'blooming'],\n",
       " ['primary', 'clear'],\n",
       " ['primary', 'partly_cloudy'],\n",
       " ['primary', 'clear'],\n",
       " ['primary', 'clear', 'agriculture', 'road'],\n",
       " ['primary', 'clear', 'blooming', 'blow_down'],\n",
       " ['primary', 'clear', 'agriculture'],\n",
       " ['primary', 'water', 'partly_cloudy'],\n",
       " ['primary', 'road', 'partly_cloudy'],\n",
       " ['primary', 'clear', 'blooming', 'slash_burn', 'blow_down'],\n",
       " ['agriculture', 'water', 'artisinal_mine'],\n",
       " ['primary', 'clear', 'water', 'habitation'],\n",
       " ['primary', 'clear', 'blooming'],\n",
       " ['primary', 'haze'],\n",
       " ['primary', 'clear', 'agriculture', 'road', 'water'],\n",
       " ['haze', 'cloudy', 'conventional_mine'],\n",
       " ['primary', 'clear', 'road', 'water', 'habitation', 'artisinal_mine'],\n",
       " ['primary', 'clear'],\n",
       " ['primary', 'agriculture', 'partly_cloudy', 'cultivation'],\n",
       " ['primary', 'clear', 'blooming', 'blow_down'],\n",
       " ['primary', 'agriculture', 'partly_cloudy'],\n",
       " ['primary', 'agriculture', 'road', 'partly_cloudy', 'habitation'],\n",
       " ['primary', 'partly_cloudy'],\n",
       " ['primary', 'clear', 'blooming', 'slash_burn', 'blow_down'],\n",
       " ['primary',\n",
       "  'clear',\n",
       "  'agriculture',\n",
       "  'road',\n",
       "  'water',\n",
       "  'cultivation',\n",
       "  'habitation'],\n",
       " ['primary', 'clear', 'blooming'],\n",
       " ['primary', 'clear', 'blooming'],\n",
       " ['primary', 'clear', 'blooming'],\n",
       " ['primary', 'clear', 'water'],\n",
       " ['primary', 'clear', 'road', 'bare_ground'],\n",
       " ['primary', 'clear', 'blooming', 'blow_down'],\n",
       " ['primary',\n",
       "  'clear',\n",
       "  'selective_logging',\n",
       "  'blooming',\n",
       "  'slash_burn',\n",
       "  'blow_down',\n",
       "  'conventional_mine'],\n",
       " ['partly_cloudy', 'cloudy'],\n",
       " ['primary', 'partly_cloudy'],\n",
       " ['primary', 'clear', 'blooming', 'slash_burn', 'blow_down'],\n",
       " ['primary', 'clear', 'blooming', 'blow_down'],\n",
       " ['primary', 'water', 'haze', 'slash_burn', 'conventional_mine'],\n",
       " ['primary', 'agriculture', 'water', 'haze'],\n",
       " ['primary', 'agriculture', 'partly_cloudy', 'cultivation'],\n",
       " ['primary', 'clear', 'blooming'],\n",
       " ['primary', 'agriculture', 'partly_cloudy', 'cultivation'],\n",
       " ['clear', 'water', 'haze', 'conventional_mine'],\n",
       " ['primary', 'clear', 'agriculture', 'road', 'habitation', 'slash_burn'],\n",
       " ['primary', 'haze'],\n",
       " ['primary', 'agriculture', 'water', 'partly_cloudy'],\n",
       " ['primary', 'clear', 'blooming'],\n",
       " ['clear', 'agriculture', 'road', 'cultivation'],\n",
       " ['haze', 'cloudy'],\n",
       " ['primary', 'haze'],\n",
       " ['primary',\n",
       "  'clear',\n",
       "  'selective_logging',\n",
       "  'blooming',\n",
       "  'slash_burn',\n",
       "  'blow_down'],\n",
       " ['primary', 'agriculture', 'water', 'partly_cloudy', 'cultivation', 'haze'],\n",
       " ['clear',\n",
       "  'water',\n",
       "  'haze',\n",
       "  'cloudy',\n",
       "  'slash_burn',\n",
       "  'blow_down',\n",
       "  'conventional_mine'],\n",
       " ['primary', 'clear', 'bare_ground'],\n",
       " ['primary', 'partly_cloudy', 'bare_ground'],\n",
       " ['primary', 'clear', 'blooming', 'blow_down'],\n",
       " ['primary', 'clear', 'agriculture'],\n",
       " ['primary', 'clear', 'cultivation', 'slash_burn'],\n",
       " ['primary', 'clear', 'blooming'],\n",
       " ['primary', 'clear', 'blooming']]"
      ]
     },
     "execution_count": 89,
     "metadata": {},
     "output_type": "execute_result"
    }
   ],
   "source": [
    "predictions_labels"
   ]
  },
  {
   "cell_type": "code",
   "execution_count": 39,
   "metadata": {
    "collapsed": true
   },
   "outputs": [],
   "source": [
    "def load_test_images(dir_list, img_ini, img_fim):\n",
    "    X = []\n",
    "    img_list = []\n",
    "    for img_num in range(img_ini, img_fim):                   \n",
    "\n",
    "            try: \n",
    "                img_x = load_image(PLANET_KAGGLE_TEST_DIR + dir_list[img_num])\n",
    "\n",
    "                X.append(img_x/255)\n",
    "\n",
    "                img_list.append(dir_list[img_num])\n",
    "\n",
    "            except:\n",
    "                if debug: print('ERRO LEITURA IMAGEM:',img_dir + labels_df.iloc[i].values[0] + '.' + img_type)\n",
    "                pass\n",
    "            \n",
    "    X = np.array(X, dtype='float32')\n",
    "    return X, img_list\n"
   ]
  },
  {
   "cell_type": "code",
   "execution_count": 45,
   "metadata": {},
   "outputs": [
    {
     "name": "stdout",
     "output_type": "stream",
     "text": [
      "(50, 256, 256, 4)\n"
     ]
    }
   ],
   "source": [
    "batch=50\n",
    "\n",
    "import os\n",
    "dir_list = os.listdir(PLANET_KAGGLE_TEST_DIR)\n",
    "\n",
    "i=0\n",
    "while i < 50:\n",
    "\n",
    "    X, img_list = load_test_images(dir_list, i, batch)\n",
    "\n",
    "    print(X.shape)\n",
    "    \n",
    "    classes = model.predict(X, batch_size=10)\n",
    "    \n",
    "    i+= batch\n",
    "\n",
    "labels_dx = load_labels(PLANET_KAGGLE_LABEL_CSV)\n",
    "\n",
    "list_labels = labels_dx.columns[2:]\n",
    "    \n",
    "thresholds = []\n",
    "predictions_labels = []\n",
    "for prediction in range(len(classes)):\n",
    "    labels = [list_labels[i] for i, value in enumerate(classes[prediction]) if value > 0.5]\n",
    "    predictions_labels.append([dir_list[prediction] , labels])"
   ]
  },
  {
   "cell_type": "code",
   "execution_count": 46,
   "metadata": {},
   "outputs": [
    {
     "data": {
      "text/plain": [
       "[['file_0.tif', ['primary', 'clear']],\n",
       " ['file_1.tif',\n",
       "  ['primary', 'clear', 'agriculture', 'road', 'water', 'habitation']],\n",
       " ['file_10.tif', ['primary', 'clear', 'road', 'water']],\n",
       " ['file_100.tif', ['primary', 'clear']],\n",
       " ['file_1000.tif', ['primary', 'clear', 'road', 'water', 'habitation']],\n",
       " ['file_10000.tif', ['primary', 'clear']],\n",
       " ['file_10001.tif', ['primary', 'clear', 'agriculture', 'road', 'water']],\n",
       " ['file_10002.tif', ['primary', 'clear']],\n",
       " ['file_10003.tif', ['primary', 'clear', 'agriculture', 'road', 'habitation']],\n",
       " ['file_10004.tif', ['primary', 'clear']],\n",
       " ['file_10005.tif', ['primary', 'clear']],\n",
       " ['file_10006.tif', ['primary', 'clear', 'agriculture', 'partly_cloudy']],\n",
       " ['file_10007.tif', ['cloudy']],\n",
       " ['file_10008.tif', ['primary', 'clear']],\n",
       " ['file_10009.tif', ['primary', 'clear', 'agriculture', 'road']],\n",
       " ['file_1001.tif', ['primary', 'agriculture', 'partly_cloudy']],\n",
       " ['file_10010.tif', ['primary', 'clear', 'water']],\n",
       " ['file_10011.tif', ['primary', 'clear']],\n",
       " ['file_10012.tif', ['primary', 'clear']],\n",
       " ['file_10013.tif', ['primary', 'clear']],\n",
       " ['file_10014.tif', ['primary', 'clear', 'agriculture']],\n",
       " ['file_10015.tif', ['primary', 'clear', 'cultivation', 'bare_ground']],\n",
       " ['file_10016.tif', ['primary', 'clear']],\n",
       " ['file_10017.tif', ['primary', 'water', 'partly_cloudy']],\n",
       " ['file_10018.tif', ['primary', 'clear', 'road']],\n",
       " ['file_10019.tif', ['primary', 'partly_cloudy']],\n",
       " ['file_1002.tif', ['primary', 'haze']],\n",
       " ['file_10020.tif',\n",
       "  ['primary', 'clear', 'agriculture', 'cultivation', 'habitation']],\n",
       " ['file_10021.tif', ['primary', 'clear']],\n",
       " ['file_10022.tif', ['primary', 'clear', 'haze']],\n",
       " ['file_10023.tif',\n",
       "  ['primary', 'clear', 'agriculture', 'road', 'cultivation', 'habitation']],\n",
       " ['file_10024.tif', ['primary', 'partly_cloudy']],\n",
       " ['file_10025.tif', ['primary', 'clear']],\n",
       " ['file_10026.tif', ['primary', 'clear']],\n",
       " ['file_10027.tif', ['primary']],\n",
       " ['file_10028.tif', ['primary', 'clear']],\n",
       " ['file_10029.tif', ['primary', 'clear']],\n",
       " ['file_1003.tif', ['primary', 'clear']],\n",
       " ['file_10030.tif', ['primary', 'partly_cloudy']],\n",
       " ['file_10031.tif', ['cloudy']],\n",
       " ['file_10032.tif', ['primary', 'clear']],\n",
       " ['file_10033.tif', ['primary', 'clear', 'agriculture']],\n",
       " ['file_10034.tif', ['cloudy']],\n",
       " ['file_10035.tif', ['primary', 'partly_cloudy']],\n",
       " ['file_10036.tif', ['primary', 'clear']],\n",
       " ['file_10037.tif', ['primary', 'clear']],\n",
       " ['file_10038.tif', ['primary', 'clear', 'agriculture', 'road']],\n",
       " ['file_10039.tif', ['primary', 'haze']],\n",
       " ['file_1004.tif', ['primary', 'clear', 'cultivation', 'bare_ground']],\n",
       " ['file_10040.tif', ['primary', 'clear', 'agriculture']]]"
      ]
     },
     "execution_count": 46,
     "metadata": {},
     "output_type": "execute_result"
    }
   ],
   "source": [
    "predictions_labels"
   ]
  },
  {
   "cell_type": "code",
   "execution_count": null,
   "metadata": {
    "collapsed": true
   },
   "outputs": [],
   "source": []
  }
 ],
 "metadata": {
  "kernelspec": {
   "display_name": "Python 3",
   "language": "python",
   "name": "python3"
  },
  "language_info": {
   "codemirror_mode": {
    "name": "ipython",
    "version": 3
   },
   "file_extension": ".py",
   "mimetype": "text/x-python",
   "name": "python",
   "nbconvert_exporter": "python",
   "pygments_lexer": "ipython3",
   "version": "3.5.3"
  }
 },
 "nbformat": 4,
 "nbformat_minor": 2
}
