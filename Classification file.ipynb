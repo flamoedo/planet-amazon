{
 "cells": [
  {
   "cell_type": "code",
   "execution_count": 1,
   "metadata": {},
   "outputs": [
    {
     "name": "stdout",
     "output_type": "stream",
     "text": [
      "C:\\Kaggle\\planet-amazon-deforestation-master\\train-tif-v2/\n"
     ]
    },
    {
     "name": "stderr",
     "output_type": "stream",
     "text": [
      "Using TensorFlow backend.\n"
     ]
    }
   ],
   "source": [
    "import os\n",
    "\n",
    "from Keras_VGG_helper import load_labels\n",
    "from Keras_VGG_helper import batch_classify\n",
    "from Keras_VGG_helper import load_test_images"
   ]
  },
  {
   "cell_type": "code",
   "execution_count": 2,
   "metadata": {},
   "outputs": [
    {
     "name": "stdout",
     "output_type": "stream",
     "text": [
      "C:\\Kaggle\\planet-amazon-deforestation-master\\test-tif-v2/\n"
     ]
    }
   ],
   "source": [
    "PLANET_KAGGLE_ROOT = os.path.abspath(\"C:/Kaggle\")\n",
    "PLANET_KAGGLE_JPEG_DIR = os.path.join(PLANET_KAGGLE_ROOT, 'planet-amazon-deforestation-master','test-tif-v2/')\n",
    "PLANET_KAGGLE_LABEL_CSV = os.path.join(PLANET_KAGGLE_ROOT, 'planet-amazon-deforestation-master', 'train_v2.csv')\n",
    "MODEL_SAVE_FILE_NAME = 'ver_3_forest-vgg.keras'\n",
    "\n",
    "print(PLANET_KAGGLE_JPEG_DIR)\n",
    "\n",
    "assert os.path.exists(PLANET_KAGGLE_ROOT)\n",
    "assert os.path.exists(PLANET_KAGGLE_JPEG_DIR)\n",
    "assert os.path.exists(PLANET_KAGGLE_LABEL_CSV)"
   ]
  },
  {
   "cell_type": "code",
   "execution_count": 3,
   "metadata": {},
   "outputs": [
    {
     "name": "stdout",
     "output_type": "stream",
     "text": [
      "C:\\Kaggle\\planet-amazon-deforestation-master\\train_v2.csv\n",
      "Processando imagens 0 100\n",
      "Processando imagens 100 200\n",
      "Processando imagens 200 300\n"
     ]
    }
   ],
   "source": [
    "batch_classify('ver_3_forest-vgg.keras', 'submission_file_teste.csv', \n",
    "                     PLANET_KAGGLE_JPEG_DIR,PLANET_KAGGLE_LABEL_CSV, 100, 10)"
   ]
  }
 ],
 "metadata": {
  "kernelspec": {
   "display_name": "Python 3",
   "language": "python",
   "name": "python3"
  },
  "language_info": {
   "codemirror_mode": {
    "name": "ipython",
    "version": 3
   },
   "file_extension": ".py",
   "mimetype": "text/x-python",
   "name": "python",
   "nbconvert_exporter": "python",
   "pygments_lexer": "ipython3",
   "version": "3.5.3"
  }
 },
 "nbformat": 4,
 "nbformat_minor": 2
}
